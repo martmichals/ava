{
 "cells": [
  {
   "cell_type": "code",
   "execution_count": 1,
   "id": "356fbde5-4a74-431a-b1e9-69572b31e443",
   "metadata": {},
   "outputs": [],
   "source": [
    "import os\n",
    "import torch\n",
    "from datasets import load_dataset"
   ]
  },
  {
   "cell_type": "code",
   "execution_count": 2,
   "id": "0ccd46e7-9a43-42e3-a1b7-fc1a70c6bb5d",
   "metadata": {},
   "outputs": [],
   "source": [
    "# Hardware information\n",
    "processors = os.cpu_count()\n",
    "device = 'cuda:0' if torch.cuda.is_available() else 'cpu'"
   ]
  },
  {
   "cell_type": "code",
   "execution_count": 3,
   "id": "f887dc05-7380-417f-81b5-0bd07261f7b8",
   "metadata": {},
   "outputs": [
    {
     "name": "stderr",
     "output_type": "stream",
     "text": [
      "Found cached dataset glue (/home/martmichals/.cache/huggingface/datasets/glue/cola/1.0.0/dacbe3125aa31d7f70367a07a8a9e72a5a0bfeb5fc42e75c9db75b96da6053ad)\n"
     ]
    },
    {
     "data": {
      "application/vnd.jupyter.widget-view+json": {
       "model_id": "7da09c9fb14d47f6b1525947054e8e42",
       "version_major": 2,
       "version_minor": 0
      },
      "text/plain": [
       "  0%|          | 0/3 [00:00<?, ?it/s]"
      ]
     },
     "metadata": {},
     "output_type": "display_data"
    },
    {
     "name": "stderr",
     "output_type": "stream",
     "text": [
      "Found cached dataset glue (/home/martmichals/.cache/huggingface/datasets/glue/sst2/1.0.0/dacbe3125aa31d7f70367a07a8a9e72a5a0bfeb5fc42e75c9db75b96da6053ad)\n"
     ]
    },
    {
     "data": {
      "application/vnd.jupyter.widget-view+json": {
       "model_id": "72905543d68c4a2a9b8691f40c802222",
       "version_major": 2,
       "version_minor": 0
      },
      "text/plain": [
       "  0%|          | 0/3 [00:00<?, ?it/s]"
      ]
     },
     "metadata": {},
     "output_type": "display_data"
    },
    {
     "name": "stderr",
     "output_type": "stream",
     "text": [
      "Found cached dataset glue (/home/martmichals/.cache/huggingface/datasets/glue/mrpc/1.0.0/dacbe3125aa31d7f70367a07a8a9e72a5a0bfeb5fc42e75c9db75b96da6053ad)\n"
     ]
    },
    {
     "data": {
      "application/vnd.jupyter.widget-view+json": {
       "model_id": "ec97e5f8feb740aaa86a576208c81a7b",
       "version_major": 2,
       "version_minor": 0
      },
      "text/plain": [
       "  0%|          | 0/3 [00:00<?, ?it/s]"
      ]
     },
     "metadata": {},
     "output_type": "display_data"
    },
    {
     "name": "stderr",
     "output_type": "stream",
     "text": [
      "Found cached dataset glue (/home/martmichals/.cache/huggingface/datasets/glue/qqp/1.0.0/dacbe3125aa31d7f70367a07a8a9e72a5a0bfeb5fc42e75c9db75b96da6053ad)\n"
     ]
    },
    {
     "data": {
      "application/vnd.jupyter.widget-view+json": {
       "model_id": "78c81de186bc4a9eba95c4c4949a37fe",
       "version_major": 2,
       "version_minor": 0
      },
      "text/plain": [
       "  0%|          | 0/3 [00:00<?, ?it/s]"
      ]
     },
     "metadata": {},
     "output_type": "display_data"
    },
    {
     "name": "stderr",
     "output_type": "stream",
     "text": [
      "Found cached dataset glue (/home/martmichals/.cache/huggingface/datasets/glue/stsb/1.0.0/dacbe3125aa31d7f70367a07a8a9e72a5a0bfeb5fc42e75c9db75b96da6053ad)\n"
     ]
    },
    {
     "data": {
      "application/vnd.jupyter.widget-view+json": {
       "model_id": "cff846e28d3942d1bbcbb3b3831777f5",
       "version_major": 2,
       "version_minor": 0
      },
      "text/plain": [
       "  0%|          | 0/3 [00:00<?, ?it/s]"
      ]
     },
     "metadata": {},
     "output_type": "display_data"
    },
    {
     "name": "stderr",
     "output_type": "stream",
     "text": [
      "Found cached dataset glue (/home/martmichals/.cache/huggingface/datasets/glue/mnli/1.0.0/dacbe3125aa31d7f70367a07a8a9e72a5a0bfeb5fc42e75c9db75b96da6053ad)\n"
     ]
    },
    {
     "data": {
      "application/vnd.jupyter.widget-view+json": {
       "model_id": "625cfaa32dd54dbab67d9bc946211e1f",
       "version_major": 2,
       "version_minor": 0
      },
      "text/plain": [
       "  0%|          | 0/5 [00:00<?, ?it/s]"
      ]
     },
     "metadata": {},
     "output_type": "display_data"
    },
    {
     "name": "stderr",
     "output_type": "stream",
     "text": [
      "Found cached dataset glue (/home/martmichals/.cache/huggingface/datasets/glue/mnli_mismatched/1.0.0/dacbe3125aa31d7f70367a07a8a9e72a5a0bfeb5fc42e75c9db75b96da6053ad)\n"
     ]
    },
    {
     "data": {
      "application/vnd.jupyter.widget-view+json": {
       "model_id": "2787d986f6924fbf9c8979b82a54a782",
       "version_major": 2,
       "version_minor": 0
      },
      "text/plain": [
       "  0%|          | 0/2 [00:00<?, ?it/s]"
      ]
     },
     "metadata": {},
     "output_type": "display_data"
    },
    {
     "name": "stderr",
     "output_type": "stream",
     "text": [
      "Found cached dataset glue (/home/martmichals/.cache/huggingface/datasets/glue/mnli_matched/1.0.0/dacbe3125aa31d7f70367a07a8a9e72a5a0bfeb5fc42e75c9db75b96da6053ad)\n"
     ]
    },
    {
     "data": {
      "application/vnd.jupyter.widget-view+json": {
       "model_id": "954249dca7d844e794eba8887bf0b41d",
       "version_major": 2,
       "version_minor": 0
      },
      "text/plain": [
       "  0%|          | 0/2 [00:00<?, ?it/s]"
      ]
     },
     "metadata": {},
     "output_type": "display_data"
    },
    {
     "name": "stderr",
     "output_type": "stream",
     "text": [
      "Found cached dataset glue (/home/martmichals/.cache/huggingface/datasets/glue/qnli/1.0.0/dacbe3125aa31d7f70367a07a8a9e72a5a0bfeb5fc42e75c9db75b96da6053ad)\n"
     ]
    },
    {
     "data": {
      "application/vnd.jupyter.widget-view+json": {
       "model_id": "3301b43e41ee41808f2e0e4da0cbdfa1",
       "version_major": 2,
       "version_minor": 0
      },
      "text/plain": [
       "  0%|          | 0/3 [00:00<?, ?it/s]"
      ]
     },
     "metadata": {},
     "output_type": "display_data"
    },
    {
     "name": "stderr",
     "output_type": "stream",
     "text": [
      "Found cached dataset glue (/home/martmichals/.cache/huggingface/datasets/glue/rte/1.0.0/dacbe3125aa31d7f70367a07a8a9e72a5a0bfeb5fc42e75c9db75b96da6053ad)\n"
     ]
    },
    {
     "data": {
      "application/vnd.jupyter.widget-view+json": {
       "model_id": "0e4b6f4eab174adbbea78566649e3384",
       "version_major": 2,
       "version_minor": 0
      },
      "text/plain": [
       "  0%|          | 0/3 [00:00<?, ?it/s]"
      ]
     },
     "metadata": {},
     "output_type": "display_data"
    },
    {
     "name": "stderr",
     "output_type": "stream",
     "text": [
      "Found cached dataset glue (/home/martmichals/.cache/huggingface/datasets/glue/wnli/1.0.0/dacbe3125aa31d7f70367a07a8a9e72a5a0bfeb5fc42e75c9db75b96da6053ad)\n"
     ]
    },
    {
     "data": {
      "application/vnd.jupyter.widget-view+json": {
       "model_id": "b51ac8981911469ca4e0a003873bb95b",
       "version_major": 2,
       "version_minor": 0
      },
      "text/plain": [
       "  0%|          | 0/3 [00:00<?, ?it/s]"
      ]
     },
     "metadata": {},
     "output_type": "display_data"
    },
    {
     "name": "stderr",
     "output_type": "stream",
     "text": [
      "Found cached dataset glue (/home/martmichals/.cache/huggingface/datasets/glue/ax/1.0.0/dacbe3125aa31d7f70367a07a8a9e72a5a0bfeb5fc42e75c9db75b96da6053ad)\n"
     ]
    },
    {
     "data": {
      "application/vnd.jupyter.widget-view+json": {
       "model_id": "2f95f508922b457d97dd984076e39712",
       "version_major": 2,
       "version_minor": 0
      },
      "text/plain": [
       "  0%|          | 0/1 [00:00<?, ?it/s]"
      ]
     },
     "metadata": {},
     "output_type": "display_data"
    }
   ],
   "source": [
    "# Task Names\n",
    "glue_tasks = [\n",
    "    'cola', 'sst2', 'mrpc', \n",
    "    'qqp', 'stsb', 'mnli',\n",
    "    'qnli', 'rte', 'wnli', \n",
    "    'ax'\n",
    "]\n",
    "\n",
    "# Dataset\n",
    "glue = {\n",
    "    task: load_dataset('glue', task, num_proc=processors)\n",
    "for task in glue_tasks}"
   ]
  },
  {
   "cell_type": "code",
   "execution_count": 4,
   "id": "3924ff99-84a0-4b4e-93ae-f9c782ab8115",
   "metadata": {},
   "outputs": [
    {
     "data": {
      "text/plain": [
       "{'cola': DatasetDict({\n",
       "     train: Dataset({\n",
       "         features: ['sentence', 'label', 'idx'],\n",
       "         num_rows: 8551\n",
       "     })\n",
       "     validation: Dataset({\n",
       "         features: ['sentence', 'label', 'idx'],\n",
       "         num_rows: 1043\n",
       "     })\n",
       "     test: Dataset({\n",
       "         features: ['sentence', 'label', 'idx'],\n",
       "         num_rows: 1063\n",
       "     })\n",
       " }),\n",
       " 'sst2': DatasetDict({\n",
       "     train: Dataset({\n",
       "         features: ['sentence', 'label', 'idx'],\n",
       "         num_rows: 67349\n",
       "     })\n",
       "     validation: Dataset({\n",
       "         features: ['sentence', 'label', 'idx'],\n",
       "         num_rows: 872\n",
       "     })\n",
       "     test: Dataset({\n",
       "         features: ['sentence', 'label', 'idx'],\n",
       "         num_rows: 1821\n",
       "     })\n",
       " }),\n",
       " 'mrpc': DatasetDict({\n",
       "     train: Dataset({\n",
       "         features: ['sentence1', 'sentence2', 'label', 'idx'],\n",
       "         num_rows: 3668\n",
       "     })\n",
       "     validation: Dataset({\n",
       "         features: ['sentence1', 'sentence2', 'label', 'idx'],\n",
       "         num_rows: 408\n",
       "     })\n",
       "     test: Dataset({\n",
       "         features: ['sentence1', 'sentence2', 'label', 'idx'],\n",
       "         num_rows: 1725\n",
       "     })\n",
       " }),\n",
       " 'qqp': DatasetDict({\n",
       "     train: Dataset({\n",
       "         features: ['question1', 'question2', 'label', 'idx'],\n",
       "         num_rows: 363846\n",
       "     })\n",
       "     validation: Dataset({\n",
       "         features: ['question1', 'question2', 'label', 'idx'],\n",
       "         num_rows: 40430\n",
       "     })\n",
       "     test: Dataset({\n",
       "         features: ['question1', 'question2', 'label', 'idx'],\n",
       "         num_rows: 390965\n",
       "     })\n",
       " }),\n",
       " 'stsb': DatasetDict({\n",
       "     train: Dataset({\n",
       "         features: ['sentence1', 'sentence2', 'label', 'idx'],\n",
       "         num_rows: 5749\n",
       "     })\n",
       "     validation: Dataset({\n",
       "         features: ['sentence1', 'sentence2', 'label', 'idx'],\n",
       "         num_rows: 1500\n",
       "     })\n",
       "     test: Dataset({\n",
       "         features: ['sentence1', 'sentence2', 'label', 'idx'],\n",
       "         num_rows: 1379\n",
       "     })\n",
       " }),\n",
       " 'mnli': DatasetDict({\n",
       "     train: Dataset({\n",
       "         features: ['premise', 'hypothesis', 'label', 'idx'],\n",
       "         num_rows: 392702\n",
       "     })\n",
       "     validation_matched: Dataset({\n",
       "         features: ['premise', 'hypothesis', 'label', 'idx'],\n",
       "         num_rows: 9815\n",
       "     })\n",
       "     validation_mismatched: Dataset({\n",
       "         features: ['premise', 'hypothesis', 'label', 'idx'],\n",
       "         num_rows: 9832\n",
       "     })\n",
       "     test_matched: Dataset({\n",
       "         features: ['premise', 'hypothesis', 'label', 'idx'],\n",
       "         num_rows: 9796\n",
       "     })\n",
       "     test_mismatched: Dataset({\n",
       "         features: ['premise', 'hypothesis', 'label', 'idx'],\n",
       "         num_rows: 9847\n",
       "     })\n",
       " }),\n",
       " 'mnli_mismatched': DatasetDict({\n",
       "     validation: Dataset({\n",
       "         features: ['premise', 'hypothesis', 'label', 'idx'],\n",
       "         num_rows: 9832\n",
       "     })\n",
       "     test: Dataset({\n",
       "         features: ['premise', 'hypothesis', 'label', 'idx'],\n",
       "         num_rows: 9847\n",
       "     })\n",
       " }),\n",
       " 'mnli_matched': DatasetDict({\n",
       "     validation: Dataset({\n",
       "         features: ['premise', 'hypothesis', 'label', 'idx'],\n",
       "         num_rows: 9815\n",
       "     })\n",
       "     test: Dataset({\n",
       "         features: ['premise', 'hypothesis', 'label', 'idx'],\n",
       "         num_rows: 9796\n",
       "     })\n",
       " }),\n",
       " 'qnli': DatasetDict({\n",
       "     train: Dataset({\n",
       "         features: ['question', 'sentence', 'label', 'idx'],\n",
       "         num_rows: 104743\n",
       "     })\n",
       "     validation: Dataset({\n",
       "         features: ['question', 'sentence', 'label', 'idx'],\n",
       "         num_rows: 5463\n",
       "     })\n",
       "     test: Dataset({\n",
       "         features: ['question', 'sentence', 'label', 'idx'],\n",
       "         num_rows: 5463\n",
       "     })\n",
       " }),\n",
       " 'rte': DatasetDict({\n",
       "     train: Dataset({\n",
       "         features: ['sentence1', 'sentence2', 'label', 'idx'],\n",
       "         num_rows: 2490\n",
       "     })\n",
       "     validation: Dataset({\n",
       "         features: ['sentence1', 'sentence2', 'label', 'idx'],\n",
       "         num_rows: 277\n",
       "     })\n",
       "     test: Dataset({\n",
       "         features: ['sentence1', 'sentence2', 'label', 'idx'],\n",
       "         num_rows: 3000\n",
       "     })\n",
       " }),\n",
       " 'wnli': DatasetDict({\n",
       "     train: Dataset({\n",
       "         features: ['sentence1', 'sentence2', 'label', 'idx'],\n",
       "         num_rows: 635\n",
       "     })\n",
       "     validation: Dataset({\n",
       "         features: ['sentence1', 'sentence2', 'label', 'idx'],\n",
       "         num_rows: 71\n",
       "     })\n",
       "     test: Dataset({\n",
       "         features: ['sentence1', 'sentence2', 'label', 'idx'],\n",
       "         num_rows: 146\n",
       "     })\n",
       " }),\n",
       " 'ax': DatasetDict({\n",
       "     test: Dataset({\n",
       "         features: ['premise', 'hypothesis', 'label', 'idx'],\n",
       "         num_rows: 1104\n",
       "     })\n",
       " })}"
      ]
     },
     "execution_count": 4,
     "metadata": {},
     "output_type": "execute_result"
    }
   ],
   "source": [
    "glue"
   ]
  },
  {
   "cell_type": "code",
   "execution_count": 5,
   "id": "34438305-8d03-4ba2-a38a-9be258441db6",
   "metadata": {},
   "outputs": [
    {
     "name": "stderr",
     "output_type": "stream",
     "text": [
      "Loading cached processed dataset at /home/martmichals/.cache/huggingface/datasets/glue/mnli/1.0.0/dacbe3125aa31d7f70367a07a8a9e72a5a0bfeb5fc42e75c9db75b96da6053ad/cache-3e6048ff3baafc6f.arrow\n"
     ]
    },
    {
     "name": "stdout",
     "output_type": "stream",
     "text": [
      "{'premise': 'Conceptually cream skimming has two basic dimensions - product and geography.', 'hypothesis': 'Product and geography are what make cream skimming work. ', 'label': 1, 'idx': 0}\n"
     ]
    },
    {
     "data": {
      "text/plain": [
       "{'premise': 'Conceptually cream skimming has two basic dimensions - product and geography.',\n",
       " 'hypothesis': 'Product and geography are what make cream skimming work. ',\n",
       " 'label': 1,\n",
       " 'idx': 0}"
      ]
     },
     "execution_count": 5,
     "metadata": {},
     "output_type": "execute_result"
    }
   ],
   "source": [
    "# Function can be invoked to change the numerical labels corresponding to natural \n",
    "# language labels\n",
    "print(glue['mnli']['train'][0])\n",
    "label2id = {'CONTRADICTION': 0, 'NEUTRAL': 1, 'ENTAILMENT': 2}\n",
    "mnli_aligned = glue['mnli']['train'].align_labels_with_mapping(label2id, 'label')\n",
    "mnli_aligned[0]"
   ]
  }
 ],
 "metadata": {
  "kernelspec": {
   "display_name": "ava",
   "language": "python",
   "name": "ava"
  },
  "language_info": {
   "codemirror_mode": {
    "name": "ipython",
    "version": 3
   },
   "file_extension": ".py",
   "mimetype": "text/x-python",
   "name": "python",
   "nbconvert_exporter": "python",
   "pygments_lexer": "ipython3",
   "version": "3.9.15"
  }
 },
 "nbformat": 4,
 "nbformat_minor": 5
}
